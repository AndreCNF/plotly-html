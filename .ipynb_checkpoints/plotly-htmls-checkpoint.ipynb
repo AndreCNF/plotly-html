{
 "cells": [
  {
   "cell_type": "markdown",
   "metadata": {},
   "source": [
    "# Plotly HTMLs\n",
    "---\n",
    "\n",
    "Notebook where I create plotly plots in HTML, so as to embed in some web page."
   ]
  },
  {
   "cell_type": "markdown",
   "metadata": {},
   "source": [
    "## Importing the necessary packages"
   ]
  },
  {
   "cell_type": "code",
   "execution_count": null,
   "metadata": {},
   "outputs": [],
   "source": [
    "import plotly.graph_objects as go\n",
    "import plotly.io as pio"
   ]
  },
  {
   "cell_type": "markdown",
   "metadata": {},
   "source": [
    "## Plotting"
   ]
  },
  {
   "cell_type": "markdown",
   "metadata": {},
   "source": [
    "### Medscape burnouts\n",
    "\n",
    "https://www.medscape.com/slideshow/2019-global-burnout-comparison-6011180#4"
   ]
  },
  {
   "cell_type": "markdown",
   "metadata": {},
   "source": [
    "Data:"
   ]
  },
  {
   "cell_type": "code",
   "execution_count": null,
   "metadata": {},
   "outputs": [],
   "source": [
    "x_data = [22, 27, 28, 12, 38, 37]\n",
    "y_data = ['UK', 'US', 'France', 'Germany', 'Portugal', 'Spain']"
   ]
  },
  {
   "cell_type": "markdown",
   "metadata": {},
   "source": [
    "Plot configuration:"
   ]
  },
  {
   "cell_type": "code",
   "execution_count": null,
   "metadata": {},
   "outputs": [],
   "source": [
    "font = 'Roboto'\n",
    "font_size = 20\n",
    "font_color = '#ffffff'\n",
    "background_color = '#2f528f'\n",
    "bar_color = '#ffffff'\n",
    "x_suffix = '%'"
   ]
  },
  {
   "cell_type": "markdown",
   "metadata": {},
   "source": [
    "Plot:"
   ]
  },
  {
   "cell_type": "code",
   "execution_count": null,
   "metadata": {},
   "outputs": [],
   "source": [
    "fig = go.Figure()\n",
    "fig.add_trace(go.Bar(\n",
    "    y=y_data,\n",
    "    x=x_data,\n",
    "    orientation='h',\n",
    "    marker=dict(\n",
    "        color=bar_color\n",
    "    )\n",
    "))\n",
    "fig.update_layout(\n",
    "    title='Percentage of burned out physicians',\n",
    "    font=dict(\n",
    "        family=font,\n",
    "        size=font_size,\n",
    "        color=font_color\n",
    "    ),\n",
    "    paper_bgcolor=background_color,\n",
    "    plot_bgcolor=background_color,\n",
    "    xaxis=dict(\n",
    "        ticksuffix=x_suffix\n",
    "    ),\n",
    "    yaxis=dict(\n",
    "        categoryorder='category descending'\n",
    "    )\n",
    ")\n",
    "fig"
   ]
  },
  {
   "cell_type": "code",
   "execution_count": null,
   "metadata": {},
   "outputs": [],
   "source": [
    "pio.write_html(fig, file='medscape_burnouts.html', auto_open=True)"
   ]
  },
  {
   "cell_type": "code",
   "execution_count": null,
   "metadata": {},
   "outputs": [],
   "source": []
  }
 ],
 "metadata": {
  "jupytext": {
   "cell_metadata_filter": "-all",
   "formats": "ipynb,py:light",
   "notebook_metadata_filter": "-all"
  },
  "kernelspec": {
   "display_name": "fcul_als_disease_progression",
   "language": "python",
   "name": "fcul_als_disease_progression"
  },
  "language_info": {
   "codemirror_mode": {
    "name": "ipython",
    "version": 3
   },
   "file_extension": ".py",
   "mimetype": "text/x-python",
   "name": "python",
   "nbconvert_exporter": "python",
   "pygments_lexer": "ipython3",
   "version": "3.7.4"
  }
 },
 "nbformat": 4,
 "nbformat_minor": 4
}
