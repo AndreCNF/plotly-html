{
 "cells": [
  {
   "cell_type": "code",
   "execution_count": null,
   "metadata": {},
   "outputs": [],
   "source": [
    "import pandas as pd\n",
    "import plotly.express as px"
   ]
  },
  {
   "cell_type": "code",
   "execution_count": null,
   "metadata": {},
   "outputs": [],
   "source": [
    "# show all columns\n",
    "pd.set_option(\"display.max_columns\", None)"
   ]
  },
  {
   "cell_type": "code",
   "execution_count": null,
   "metadata": {},
   "outputs": [],
   "source": [
    "# plotly with transparent background\n",
    "px.defaults.template = \"plotly_white\""
   ]
  },
  {
   "cell_type": "code",
   "execution_count": null,
   "metadata": {},
   "outputs": [],
   "source": [
    "df = pd.read_excel(\"/Users/adminuser/Downloads/UCS-Satellite-Database-5-1-2022.xls\")\n",
    "df"
   ]
  },
  {
   "cell_type": "code",
   "execution_count": null,
   "metadata": {},
   "outputs": [],
   "source": [
    "df[df[\"Purpose\"] == \"Surveillance\"]"
   ]
  },
  {
   "cell_type": "code",
   "execution_count": null,
   "metadata": {},
   "outputs": [],
   "source": [
    "def set_purpose(x):\n",
    "    if all(cat in x.lower() for cat in [\"earth\", \"observ\"]):\n",
    "        return \"Earth Observation\"\n",
    "    elif any(cat in x.lower() for cat in [\"communication\", \"radio\"]):\n",
    "        return \"Communications\"\n",
    "    elif \"space\" in x.lower():\n",
    "        return \"Space Science\"\n",
    "    elif \"navigation\" in x.lower():\n",
    "        return \"Navigation\"\n",
    "    elif \"technology\" in x.lower():\n",
    "        return \"Technology R&D\"\n",
    "    elif \"earth science\" in x.lower():\n",
    "        return \"Earth Science\"\n",
    "    else:\n",
    "        return \"Other\""
   ]
  },
  {
   "cell_type": "code",
   "execution_count": null,
   "metadata": {},
   "outputs": [],
   "source": [
    "# clean the purpose column\n",
    "grouped_df = df.copy()\n",
    "grouped_df[\"Purpose\"] = grouped_df[\"Purpose\"].fillna(\"Unknown\")\n",
    "grouped_df[\"Purpose\"] = grouped_df[\"Purpose\"].apply(set_purpose)\n",
    "# get the number of satellites launched over time, for each \"Purpose\"\n",
    "grouped_df = grouped_df.groupby([\"Date of Launch\", \"Purpose\"])[\"NORAD Number\"].count().to_frame().reset_index()\n",
    "grouped_df = grouped_df.rename(columns={\"NORAD Number\": \"Number of Satellites Launched\"})\n",
    "# get the cumulative sum of \"Number of Satellites Launched\" over time, for each \"Purpose\"\n",
    "# grouped_df[\"Number of Satellites Launched\"] = grouped_df.groupby(\"Purpose\")[\"Number of Satellites Launched\"].cumsum()\n",
    "# resample for every year\n",
    "grouped_df = grouped_df.set_index(\"Date of Launch\").groupby(\"Purpose\").resample(\"Y\").sum().groupby(\"Purpose\").cumsum()\n",
    "grouped_df = grouped_df.reset_index()\n",
    "grouped_df"
   ]
  },
  {
   "cell_type": "code",
   "execution_count": null,
   "metadata": {},
   "outputs": [],
   "source": [
    "# do a plot that shows the number of satellites launched over time, stacked by purpose\n",
    "fig = px.line(grouped_df, x=\"Date of Launch\", y=\"Number of Satellites Launched\", color=\"Purpose\", log_y=True)\n",
    "# change y-axis title\n",
    "fig.update_yaxes(title_text=\"Number of Satellites Launched<br><sup>(Cumulative; log scale)</sup>\")\n",
    "# save figure as a high resolution PNG with scaled text\n",
    "fig.write_image(\"satellite_launches_over_time_log_scale.png\", scale=2)\n",
    "fig.show()"
   ]
  },
  {
   "cell_type": "code",
   "execution_count": null,
   "metadata": {},
   "outputs": [],
   "source": [
    "# do a plot that shows the number of satellites launched over time, stacked by purpose\n",
    "fig = px.line(grouped_df, x=\"Date of Launch\", y=\"Number of Satellites Launched\", color=\"Purpose\")\n",
    "# change y-axis title\n",
    "fig.update_yaxes(title_text=\"Number of Satellites Launched<br><sup>(Cumulative)</sup>\")\n",
    "# save figure as a high resolution PNG with scaled text\n",
    "fig.write_image(\"satellite_launches_over_time.png\", scale=2)\n",
    "fig.show()"
   ]
  },
  {
   "cell_type": "code",
   "execution_count": null,
   "metadata": {},
   "outputs": [],
   "source": [
    "# do a plot that shows the number of satellites launched over time, stacked by purpose\n",
    "px.area(grouped_df, x=\"Date of Launch\", y=\"Number of Satellites Launched\", color=\"Purpose\", title=\"Satellite Launches by Purpose\")"
   ]
  },
  {
   "cell_type": "code",
   "execution_count": null,
   "metadata": {},
   "outputs": [],
   "source": []
  }
 ],
 "metadata": {
  "kernelspec": {
   "display_name": "plotly_html",
   "language": "python",
   "name": "python3"
  },
  "language_info": {
   "codemirror_mode": {
    "name": "ipython",
    "version": 3
   },
   "file_extension": ".py",
   "mimetype": "text/x-python",
   "name": "python",
   "nbconvert_exporter": "python",
   "pygments_lexer": "ipython3",
   "version": "3.8.12"
  },
  "orig_nbformat": 4,
  "vscode": {
   "interpreter": {
    "hash": "f0b3b64d085e386b23e5026c03ea8d690790850d10ec4bc1e7c11d8e427dad27"
   }
  }
 },
 "nbformat": 4,
 "nbformat_minor": 2
}
