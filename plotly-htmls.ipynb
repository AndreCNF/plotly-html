{
 "cells": [
  {
   "cell_type": "markdown",
   "metadata": {},
   "source": [
    "# Plotly HTMLs\n",
    "---\n",
    "\n",
    "Notebook where I create plotly plots in HTML, so as to embed in some web page."
   ]
  },
  {
   "cell_type": "markdown",
   "metadata": {},
   "source": [
    "## Importing the necessary packages"
   ]
  },
  {
   "cell_type": "code",
   "execution_count": 1,
   "metadata": {},
   "outputs": [],
   "source": [
    "import os                                  # os handles directory/workspace changes\n",
    "import yaml                                # Save and load YAML files\n",
    "import pandas as pd                        # Pandas to load and handle the data\n",
    "import plotly.graph_objects as go          # Plotly for interactive and pretty plots\n",
    "import plotly.io as pio                    # Save Plotly graphs"
   ]
  },
  {
   "cell_type": "markdown",
   "metadata": {},
   "source": [
    "## Plotting"
   ]
  },
  {
   "cell_type": "markdown",
   "metadata": {},
   "source": [
    "### Medscape burnouts\n",
    "\n",
    "https://www.medscape.com/slideshow/2019-global-burnout-comparison-6011180#4"
   ]
  },
  {
   "cell_type": "markdown",
   "metadata": {},
   "source": [
    "#### Data"
   ]
  },
  {
   "cell_type": "code",
   "execution_count": null,
   "metadata": {},
   "outputs": [],
   "source": [
    "x_data = [22, 27, 28, 12, 38, 37]\n",
    "y_data = ['UK', 'US', 'France', 'Germany', 'Portugal', 'Spain']"
   ]
  },
  {
   "cell_type": "markdown",
   "metadata": {},
   "source": [
    "#### Plot configuration"
   ]
  },
  {
   "cell_type": "code",
   "execution_count": null,
   "metadata": {},
   "outputs": [],
   "source": [
    "font = 'Roboto'\n",
    "font_size = 20\n",
    "font_color = '#ffffff'\n",
    "background_color = '#2f528f'\n",
    "bar_color = '#ffffff'\n",
    "x_suffix = '%'"
   ]
  },
  {
   "cell_type": "markdown",
   "metadata": {},
   "source": [
    "#### Plot"
   ]
  },
  {
   "cell_type": "code",
   "execution_count": null,
   "metadata": {},
   "outputs": [],
   "source": [
    "fig = go.Figure()\n",
    "fig.add_trace(go.Bar(\n",
    "    y=y_data,\n",
    "    x=x_data,\n",
    "    orientation='h',\n",
    "    marker=dict(\n",
    "        color=bar_color\n",
    "    )\n",
    "))\n",
    "fig.update_layout(\n",
    "    title='Percentage of burned out physicians',\n",
    "    font=dict(\n",
    "        family=font,\n",
    "        size=font_size,\n",
    "        color=font_color\n",
    "    ),\n",
    "    paper_bgcolor=background_color,\n",
    "    plot_bgcolor=background_color,\n",
    "    xaxis=dict(\n",
    "        ticksuffix=x_suffix\n",
    "    ),\n",
    "    yaxis=dict(\n",
    "        categoryorder='category descending'\n",
    "    )\n",
    ")\n",
    "fig"
   ]
  },
  {
   "cell_type": "code",
   "execution_count": null,
   "metadata": {},
   "outputs": [],
   "source": [
    "pio.write_html(fig, file='medscape_burnouts.html', auto_open=True)"
   ]
  },
  {
   "cell_type": "markdown",
   "metadata": {},
   "source": [
    "### Thesis model component impact\n",
    "\n",
    "Measuring the average gain in performance that we get from the components of bidirectionality, embedding layer and time awareness."
   ]
  },
  {
   "cell_type": "markdown",
   "metadata": {},
   "source": [
    "#### Data"
   ]
  },
  {
   "cell_type": "code",
   "execution_count": 2,
   "metadata": {},
   "outputs": [],
   "source": [
    "# Change to parent directory (presumably \"Documents\")\n",
    "os.chdir(\"../..\")"
   ]
  },
  {
   "cell_type": "code",
   "execution_count": 3,
   "metadata": {},
   "outputs": [],
   "source": [
    "# Path to the metrics\n",
    "metrics_path = 'GitHub/FCUL_ALS_Disease_Progression/metrics/aggregate/'"
   ]
  },
  {
   "cell_type": "code",
   "execution_count": 4,
   "metadata": {},
   "outputs": [
    {
     "data": {
      "text/plain": [
       "['rnn_bidir_one_hot_encoded_90dayswindow.yml',\n",
       " 'xgb.yml',\n",
       " 'mf1lstm_one_hot_encoded_90dayswindow.yml',\n",
       " 'logreg.yml',\n",
       " 'rnn_one_hot_encoded_delta_ts_90dayswindow.yml',\n",
       " 'lstm_bidir_one_hot_encoded_90dayswindow.yml',\n",
       " 'lstm_one_hot_encoded_delta_ts_90dayswindow.yml',\n",
       " 'tlstm_pre_embedded_90dayswindow.yml',\n",
       " 'rnn_one_hot_encoded_90dayswindow.yml',\n",
       " 'lstm_bidir_one_hot_encoded_delta_ts_90dayswindow.yml',\n",
       " 'tlstm_one_hot_encoded_90dayswindow.yml',\n",
       " 'rnn_bidir_pre_embedded_90dayswindow.yml',\n",
       " 'lstm_bidir_pre_embedded_90dayswindow.yml',\n",
       " 'rnn_bidir_one_hot_encoded_delta_ts_90dayswindow.yml',\n",
       " 'rnn_pre_embedded_delta_ts_90dayswindow.yml',\n",
       " 'mf1lstm_pre_embedded_90dayswindow.yml',\n",
       " 'lstm_bidir_pre_embedded_delta_ts_90dayswindow.yml',\n",
       " 'lstm_pre_embedded_delta_ts_90dayswindow.yml',\n",
       " 'rnn_with_embedding_90dayswindow.yml',\n",
       " 'lstm_pre_embedded_90dayswindow.yml',\n",
       " 'lstm_one_hot_encoded_90dayswindow.yml',\n",
       " 'rnn_bidir_pre_embedded_delta_ts_90dayswindow.yml',\n",
       " 'mf2lstm_one_hot_encoded_90dayswindow.yml',\n",
       " 'mf2lstm_pre_embedded_90dayswindow.yml',\n",
       " 'svm.yml']"
      ]
     },
     "execution_count": 4,
     "metadata": {},
     "output_type": "execute_result"
    }
   ],
   "source": [
    "metrics_files = os.listdir(metrics_path)\n",
    "try:\n",
    "    metrics_files.remove('.DS_Store')\n",
    "except:\n",
    "    pass\n",
    "metrics_files"
   ]
  },
  {
   "cell_type": "markdown",
   "metadata": {},
   "source": [
    "Create a dictionary with all the metrics:"
   ]
  },
  {
   "cell_type": "code",
   "execution_count": 5,
   "metadata": {},
   "outputs": [],
   "source": [
    "metrics = dict()\n",
    "for file_name in metrics_files:\n",
    "    # Load the current metrics file\n",
    "    stream = open(f'{metrics_path}{file_name}', 'r')\n",
    "    model_metrics = yaml.load(stream, Loader=yaml.FullLoader)\n",
    "    # Remove the extension from the name\n",
    "    file_name = file_name.split('.yml')[0]\n",
    "    # Define the model name which will appear in the table\n",
    "    model_name = ''\n",
    "    if 'bidir' in file_name:\n",
    "        model_name = 'Bidirectional '\n",
    "    if 'tlstm' in file_name:\n",
    "        model_name += 'TLSTM'\n",
    "    elif 'mf1lstm' in file_name:\n",
    "        model_name += 'MF1-LSTM'\n",
    "    elif 'mf2lstm' in file_name:\n",
    "        model_name += 'MF2-LSTM'\n",
    "    elif 'lstm' in file_name:\n",
    "        model_name += 'LSTM'\n",
    "    elif 'rnn' in file_name:\n",
    "        model_name += 'RNN'\n",
    "    elif 'xgb' in file_name:\n",
    "        model_name += 'XGBoost'\n",
    "    elif 'logreg' in file_name:\n",
    "        model_name += 'Logistic Regression'\n",
    "    elif 'svm' in file_name:\n",
    "        model_name += 'SVM'\n",
    "    if 'embed' in file_name:\n",
    "        model_name += ', embedded'\n",
    "    if 'delta_ts' in file_name:\n",
    "        model_name += ', time aware'\n",
    "    # Create a dictionary entry for the current model\n",
    "    metrics[model_name] = dict()\n",
    "    metrics[model_name]['Avg. Test AUC'] = model_metrics['test']['AUC']['mean']\n",
    "    metrics[model_name]['Std. Test AUC'] = model_metrics['test']['AUC']['std']"
   ]
  },
  {
   "cell_type": "markdown",
   "metadata": {},
   "source": [
    "Convert to a dataframe:"
   ]
  },
  {
   "cell_type": "code",
   "execution_count": 6,
   "metadata": {},
   "outputs": [
    {
     "data": {
      "text/html": [
       "<div>\n",
       "<style scoped>\n",
       "    .dataframe tbody tr th:only-of-type {\n",
       "        vertical-align: middle;\n",
       "    }\n",
       "\n",
       "    .dataframe tbody tr th {\n",
       "        vertical-align: top;\n",
       "    }\n",
       "\n",
       "    .dataframe thead th {\n",
       "        text-align: right;\n",
       "    }\n",
       "</style>\n",
       "<table border=\"1\" class=\"dataframe\">\n",
       "  <thead>\n",
       "    <tr style=\"text-align: right;\">\n",
       "      <th></th>\n",
       "      <th>Bidirectional RNN</th>\n",
       "      <th>XGBoost</th>\n",
       "      <th>MF1-LSTM</th>\n",
       "      <th>Logistic Regression</th>\n",
       "      <th>RNN, time aware</th>\n",
       "      <th>Bidirectional LSTM</th>\n",
       "      <th>LSTM, time aware</th>\n",
       "      <th>TLSTM, embedded</th>\n",
       "      <th>RNN</th>\n",
       "      <th>Bidirectional LSTM, time aware</th>\n",
       "      <th>...</th>\n",
       "      <th>MF1-LSTM, embedded</th>\n",
       "      <th>Bidirectional LSTM, embedded, time aware</th>\n",
       "      <th>LSTM, embedded, time aware</th>\n",
       "      <th>RNN, embedded</th>\n",
       "      <th>LSTM, embedded</th>\n",
       "      <th>LSTM</th>\n",
       "      <th>Bidirectional RNN, embedded, time aware</th>\n",
       "      <th>MF2-LSTM</th>\n",
       "      <th>MF2-LSTM, embedded</th>\n",
       "      <th>SVM</th>\n",
       "    </tr>\n",
       "  </thead>\n",
       "  <tbody>\n",
       "    <tr>\n",
       "      <th>Avg. Test AUC</th>\n",
       "      <td>0.888364</td>\n",
       "      <td>0.833373</td>\n",
       "      <td>0.675305</td>\n",
       "      <td>0.781677</td>\n",
       "      <td>0.798767</td>\n",
       "      <td>0.916037</td>\n",
       "      <td>0.795249</td>\n",
       "      <td>0.649291</td>\n",
       "      <td>0.797243</td>\n",
       "      <td>0.937405</td>\n",
       "      <td>...</td>\n",
       "      <td>0.648051</td>\n",
       "      <td>0.915068</td>\n",
       "      <td>0.822787</td>\n",
       "      <td>0.787666</td>\n",
       "      <td>0.785448</td>\n",
       "      <td>0.793016</td>\n",
       "      <td>0.896575</td>\n",
       "      <td>0.668578</td>\n",
       "      <td>0.653309</td>\n",
       "      <td>0.440693</td>\n",
       "    </tr>\n",
       "    <tr>\n",
       "      <th>Std. Test AUC</th>\n",
       "      <td>0.025372</td>\n",
       "      <td>0.035517</td>\n",
       "      <td>0.027665</td>\n",
       "      <td>0.003030</td>\n",
       "      <td>0.030467</td>\n",
       "      <td>0.016473</td>\n",
       "      <td>0.033168</td>\n",
       "      <td>0.016514</td>\n",
       "      <td>0.014516</td>\n",
       "      <td>0.025812</td>\n",
       "      <td>...</td>\n",
       "      <td>0.008728</td>\n",
       "      <td>0.021216</td>\n",
       "      <td>0.035039</td>\n",
       "      <td>0.025880</td>\n",
       "      <td>0.021874</td>\n",
       "      <td>0.022835</td>\n",
       "      <td>0.022189</td>\n",
       "      <td>0.023623</td>\n",
       "      <td>0.017099</td>\n",
       "      <td>0.017162</td>\n",
       "    </tr>\n",
       "  </tbody>\n",
       "</table>\n",
       "<p>2 rows × 25 columns</p>\n",
       "</div>"
      ],
      "text/plain": [
       "               Bidirectional RNN   XGBoost  MF1-LSTM  Logistic Regression  \\\n",
       "Avg. Test AUC           0.888364  0.833373  0.675305             0.781677   \n",
       "Std. Test AUC           0.025372  0.035517  0.027665             0.003030   \n",
       "\n",
       "               RNN, time aware  Bidirectional LSTM  LSTM, time aware  \\\n",
       "Avg. Test AUC         0.798767            0.916037          0.795249   \n",
       "Std. Test AUC         0.030467            0.016473          0.033168   \n",
       "\n",
       "               TLSTM, embedded       RNN  Bidirectional LSTM, time aware  ...  \\\n",
       "Avg. Test AUC         0.649291  0.797243                        0.937405  ...   \n",
       "Std. Test AUC         0.016514  0.014516                        0.025812  ...   \n",
       "\n",
       "               MF1-LSTM, embedded  Bidirectional LSTM, embedded, time aware  \\\n",
       "Avg. Test AUC            0.648051                                  0.915068   \n",
       "Std. Test AUC            0.008728                                  0.021216   \n",
       "\n",
       "               LSTM, embedded, time aware  RNN, embedded  LSTM, embedded  \\\n",
       "Avg. Test AUC                    0.822787       0.787666        0.785448   \n",
       "Std. Test AUC                    0.035039       0.025880        0.021874   \n",
       "\n",
       "                   LSTM  Bidirectional RNN, embedded, time aware  MF2-LSTM  \\\n",
       "Avg. Test AUC  0.793016                                 0.896575  0.668578   \n",
       "Std. Test AUC  0.022835                                 0.022189  0.023623   \n",
       "\n",
       "               MF2-LSTM, embedded       SVM  \n",
       "Avg. Test AUC            0.653309  0.440693  \n",
       "Std. Test AUC            0.017099  0.017162  \n",
       "\n",
       "[2 rows x 25 columns]"
      ]
     },
     "execution_count": 6,
     "metadata": {},
     "output_type": "execute_result"
    }
   ],
   "source": [
    "metrics_df = pd.DataFrame(metrics)\n",
    "metrics_df"
   ]
  },
  {
   "cell_type": "markdown",
   "metadata": {},
   "source": [
    "Transpose to have a row per model:"
   ]
  },
  {
   "cell_type": "code",
   "execution_count": 7,
   "metadata": {},
   "outputs": [
    {
     "data": {
      "text/html": [
       "<div>\n",
       "<style scoped>\n",
       "    .dataframe tbody tr th:only-of-type {\n",
       "        vertical-align: middle;\n",
       "    }\n",
       "\n",
       "    .dataframe tbody tr th {\n",
       "        vertical-align: top;\n",
       "    }\n",
       "\n",
       "    .dataframe thead th {\n",
       "        text-align: right;\n",
       "    }\n",
       "</style>\n",
       "<table border=\"1\" class=\"dataframe\">\n",
       "  <thead>\n",
       "    <tr style=\"text-align: right;\">\n",
       "      <th></th>\n",
       "      <th>Avg. Test AUC</th>\n",
       "      <th>Std. Test AUC</th>\n",
       "    </tr>\n",
       "  </thead>\n",
       "  <tbody>\n",
       "    <tr>\n",
       "      <th>Bidirectional RNN</th>\n",
       "      <td>0.888364</td>\n",
       "      <td>0.025372</td>\n",
       "    </tr>\n",
       "    <tr>\n",
       "      <th>XGBoost</th>\n",
       "      <td>0.833373</td>\n",
       "      <td>0.035517</td>\n",
       "    </tr>\n",
       "    <tr>\n",
       "      <th>MF1-LSTM</th>\n",
       "      <td>0.675305</td>\n",
       "      <td>0.027665</td>\n",
       "    </tr>\n",
       "    <tr>\n",
       "      <th>Logistic Regression</th>\n",
       "      <td>0.781677</td>\n",
       "      <td>0.003030</td>\n",
       "    </tr>\n",
       "    <tr>\n",
       "      <th>RNN, time aware</th>\n",
       "      <td>0.798767</td>\n",
       "      <td>0.030467</td>\n",
       "    </tr>\n",
       "    <tr>\n",
       "      <th>Bidirectional LSTM</th>\n",
       "      <td>0.916037</td>\n",
       "      <td>0.016473</td>\n",
       "    </tr>\n",
       "    <tr>\n",
       "      <th>LSTM, time aware</th>\n",
       "      <td>0.795249</td>\n",
       "      <td>0.033168</td>\n",
       "    </tr>\n",
       "    <tr>\n",
       "      <th>TLSTM, embedded</th>\n",
       "      <td>0.649291</td>\n",
       "      <td>0.016514</td>\n",
       "    </tr>\n",
       "    <tr>\n",
       "      <th>RNN</th>\n",
       "      <td>0.797243</td>\n",
       "      <td>0.014516</td>\n",
       "    </tr>\n",
       "    <tr>\n",
       "      <th>Bidirectional LSTM, time aware</th>\n",
       "      <td>0.937405</td>\n",
       "      <td>0.025812</td>\n",
       "    </tr>\n",
       "    <tr>\n",
       "      <th>TLSTM</th>\n",
       "      <td>0.649320</td>\n",
       "      <td>0.023343</td>\n",
       "    </tr>\n",
       "    <tr>\n",
       "      <th>Bidirectional RNN, embedded</th>\n",
       "      <td>0.887089</td>\n",
       "      <td>0.028001</td>\n",
       "    </tr>\n",
       "    <tr>\n",
       "      <th>Bidirectional LSTM, embedded</th>\n",
       "      <td>0.927344</td>\n",
       "      <td>0.025885</td>\n",
       "    </tr>\n",
       "    <tr>\n",
       "      <th>Bidirectional RNN, time aware</th>\n",
       "      <td>0.884163</td>\n",
       "      <td>0.024578</td>\n",
       "    </tr>\n",
       "    <tr>\n",
       "      <th>RNN, embedded, time aware</th>\n",
       "      <td>0.777421</td>\n",
       "      <td>0.024405</td>\n",
       "    </tr>\n",
       "    <tr>\n",
       "      <th>MF1-LSTM, embedded</th>\n",
       "      <td>0.648051</td>\n",
       "      <td>0.008728</td>\n",
       "    </tr>\n",
       "    <tr>\n",
       "      <th>Bidirectional LSTM, embedded, time aware</th>\n",
       "      <td>0.915068</td>\n",
       "      <td>0.021216</td>\n",
       "    </tr>\n",
       "    <tr>\n",
       "      <th>LSTM, embedded, time aware</th>\n",
       "      <td>0.822787</td>\n",
       "      <td>0.035039</td>\n",
       "    </tr>\n",
       "    <tr>\n",
       "      <th>RNN, embedded</th>\n",
       "      <td>0.787666</td>\n",
       "      <td>0.025880</td>\n",
       "    </tr>\n",
       "    <tr>\n",
       "      <th>LSTM, embedded</th>\n",
       "      <td>0.785448</td>\n",
       "      <td>0.021874</td>\n",
       "    </tr>\n",
       "    <tr>\n",
       "      <th>LSTM</th>\n",
       "      <td>0.793016</td>\n",
       "      <td>0.022835</td>\n",
       "    </tr>\n",
       "    <tr>\n",
       "      <th>Bidirectional RNN, embedded, time aware</th>\n",
       "      <td>0.896575</td>\n",
       "      <td>0.022189</td>\n",
       "    </tr>\n",
       "    <tr>\n",
       "      <th>MF2-LSTM</th>\n",
       "      <td>0.668578</td>\n",
       "      <td>0.023623</td>\n",
       "    </tr>\n",
       "    <tr>\n",
       "      <th>MF2-LSTM, embedded</th>\n",
       "      <td>0.653309</td>\n",
       "      <td>0.017099</td>\n",
       "    </tr>\n",
       "    <tr>\n",
       "      <th>SVM</th>\n",
       "      <td>0.440693</td>\n",
       "      <td>0.017162</td>\n",
       "    </tr>\n",
       "  </tbody>\n",
       "</table>\n",
       "</div>"
      ],
      "text/plain": [
       "                                          Avg. Test AUC  Std. Test AUC\n",
       "Bidirectional RNN                              0.888364       0.025372\n",
       "XGBoost                                        0.833373       0.035517\n",
       "MF1-LSTM                                       0.675305       0.027665\n",
       "Logistic Regression                            0.781677       0.003030\n",
       "RNN, time aware                                0.798767       0.030467\n",
       "Bidirectional LSTM                             0.916037       0.016473\n",
       "LSTM, time aware                               0.795249       0.033168\n",
       "TLSTM, embedded                                0.649291       0.016514\n",
       "RNN                                            0.797243       0.014516\n",
       "Bidirectional LSTM, time aware                 0.937405       0.025812\n",
       "TLSTM                                          0.649320       0.023343\n",
       "Bidirectional RNN, embedded                    0.887089       0.028001\n",
       "Bidirectional LSTM, embedded                   0.927344       0.025885\n",
       "Bidirectional RNN, time aware                  0.884163       0.024578\n",
       "RNN, embedded, time aware                      0.777421       0.024405\n",
       "MF1-LSTM, embedded                             0.648051       0.008728\n",
       "Bidirectional LSTM, embedded, time aware       0.915068       0.021216\n",
       "LSTM, embedded, time aware                     0.822787       0.035039\n",
       "RNN, embedded                                  0.787666       0.025880\n",
       "LSTM, embedded                                 0.785448       0.021874\n",
       "LSTM                                           0.793016       0.022835\n",
       "Bidirectional RNN, embedded, time aware        0.896575       0.022189\n",
       "MF2-LSTM                                       0.668578       0.023623\n",
       "MF2-LSTM, embedded                             0.653309       0.017099\n",
       "SVM                                            0.440693       0.017162"
      ]
     },
     "execution_count": 7,
     "metadata": {},
     "output_type": "execute_result"
    }
   ],
   "source": [
    "metrics_df = metrics_df.transpose()\n",
    "metrics_df"
   ]
  },
  {
   "cell_type": "markdown",
   "metadata": {},
   "source": [
    "Sort by a descending order of performance:"
   ]
  },
  {
   "cell_type": "code",
   "execution_count": 8,
   "metadata": {},
   "outputs": [
    {
     "data": {
      "text/html": [
       "<div>\n",
       "<style scoped>\n",
       "    .dataframe tbody tr th:only-of-type {\n",
       "        vertical-align: middle;\n",
       "    }\n",
       "\n",
       "    .dataframe tbody tr th {\n",
       "        vertical-align: top;\n",
       "    }\n",
       "\n",
       "    .dataframe thead th {\n",
       "        text-align: right;\n",
       "    }\n",
       "</style>\n",
       "<table border=\"1\" class=\"dataframe\">\n",
       "  <thead>\n",
       "    <tr style=\"text-align: right;\">\n",
       "      <th></th>\n",
       "      <th>Avg. Test AUC</th>\n",
       "      <th>Std. Test AUC</th>\n",
       "    </tr>\n",
       "  </thead>\n",
       "  <tbody>\n",
       "    <tr>\n",
       "      <th>Bidirectional LSTM, time aware</th>\n",
       "      <td>0.937405</td>\n",
       "      <td>0.025812</td>\n",
       "    </tr>\n",
       "    <tr>\n",
       "      <th>Bidirectional LSTM, embedded</th>\n",
       "      <td>0.927344</td>\n",
       "      <td>0.025885</td>\n",
       "    </tr>\n",
       "    <tr>\n",
       "      <th>Bidirectional LSTM</th>\n",
       "      <td>0.916037</td>\n",
       "      <td>0.016473</td>\n",
       "    </tr>\n",
       "    <tr>\n",
       "      <th>Bidirectional LSTM, embedded, time aware</th>\n",
       "      <td>0.915068</td>\n",
       "      <td>0.021216</td>\n",
       "    </tr>\n",
       "    <tr>\n",
       "      <th>Bidirectional RNN, embedded, time aware</th>\n",
       "      <td>0.896575</td>\n",
       "      <td>0.022189</td>\n",
       "    </tr>\n",
       "    <tr>\n",
       "      <th>Bidirectional RNN</th>\n",
       "      <td>0.888364</td>\n",
       "      <td>0.025372</td>\n",
       "    </tr>\n",
       "    <tr>\n",
       "      <th>Bidirectional RNN, embedded</th>\n",
       "      <td>0.887089</td>\n",
       "      <td>0.028001</td>\n",
       "    </tr>\n",
       "    <tr>\n",
       "      <th>Bidirectional RNN, time aware</th>\n",
       "      <td>0.884163</td>\n",
       "      <td>0.024578</td>\n",
       "    </tr>\n",
       "    <tr>\n",
       "      <th>XGBoost</th>\n",
       "      <td>0.833373</td>\n",
       "      <td>0.035517</td>\n",
       "    </tr>\n",
       "    <tr>\n",
       "      <th>LSTM, embedded, time aware</th>\n",
       "      <td>0.822787</td>\n",
       "      <td>0.035039</td>\n",
       "    </tr>\n",
       "    <tr>\n",
       "      <th>RNN, time aware</th>\n",
       "      <td>0.798767</td>\n",
       "      <td>0.030467</td>\n",
       "    </tr>\n",
       "    <tr>\n",
       "      <th>RNN</th>\n",
       "      <td>0.797243</td>\n",
       "      <td>0.014516</td>\n",
       "    </tr>\n",
       "    <tr>\n",
       "      <th>LSTM, time aware</th>\n",
       "      <td>0.795249</td>\n",
       "      <td>0.033168</td>\n",
       "    </tr>\n",
       "    <tr>\n",
       "      <th>LSTM</th>\n",
       "      <td>0.793016</td>\n",
       "      <td>0.022835</td>\n",
       "    </tr>\n",
       "    <tr>\n",
       "      <th>RNN, embedded</th>\n",
       "      <td>0.787666</td>\n",
       "      <td>0.025880</td>\n",
       "    </tr>\n",
       "    <tr>\n",
       "      <th>LSTM, embedded</th>\n",
       "      <td>0.785448</td>\n",
       "      <td>0.021874</td>\n",
       "    </tr>\n",
       "    <tr>\n",
       "      <th>Logistic Regression</th>\n",
       "      <td>0.781677</td>\n",
       "      <td>0.003030</td>\n",
       "    </tr>\n",
       "    <tr>\n",
       "      <th>RNN, embedded, time aware</th>\n",
       "      <td>0.777421</td>\n",
       "      <td>0.024405</td>\n",
       "    </tr>\n",
       "    <tr>\n",
       "      <th>MF1-LSTM</th>\n",
       "      <td>0.675305</td>\n",
       "      <td>0.027665</td>\n",
       "    </tr>\n",
       "    <tr>\n",
       "      <th>MF2-LSTM</th>\n",
       "      <td>0.668578</td>\n",
       "      <td>0.023623</td>\n",
       "    </tr>\n",
       "    <tr>\n",
       "      <th>MF2-LSTM, embedded</th>\n",
       "      <td>0.653309</td>\n",
       "      <td>0.017099</td>\n",
       "    </tr>\n",
       "    <tr>\n",
       "      <th>TLSTM</th>\n",
       "      <td>0.649320</td>\n",
       "      <td>0.023343</td>\n",
       "    </tr>\n",
       "    <tr>\n",
       "      <th>TLSTM, embedded</th>\n",
       "      <td>0.649291</td>\n",
       "      <td>0.016514</td>\n",
       "    </tr>\n",
       "    <tr>\n",
       "      <th>MF1-LSTM, embedded</th>\n",
       "      <td>0.648051</td>\n",
       "      <td>0.008728</td>\n",
       "    </tr>\n",
       "    <tr>\n",
       "      <th>SVM</th>\n",
       "      <td>0.440693</td>\n",
       "      <td>0.017162</td>\n",
       "    </tr>\n",
       "  </tbody>\n",
       "</table>\n",
       "</div>"
      ],
      "text/plain": [
       "                                          Avg. Test AUC  Std. Test AUC\n",
       "Bidirectional LSTM, time aware                 0.937405       0.025812\n",
       "Bidirectional LSTM, embedded                   0.927344       0.025885\n",
       "Bidirectional LSTM                             0.916037       0.016473\n",
       "Bidirectional LSTM, embedded, time aware       0.915068       0.021216\n",
       "Bidirectional RNN, embedded, time aware        0.896575       0.022189\n",
       "Bidirectional RNN                              0.888364       0.025372\n",
       "Bidirectional RNN, embedded                    0.887089       0.028001\n",
       "Bidirectional RNN, time aware                  0.884163       0.024578\n",
       "XGBoost                                        0.833373       0.035517\n",
       "LSTM, embedded, time aware                     0.822787       0.035039\n",
       "RNN, time aware                                0.798767       0.030467\n",
       "RNN                                            0.797243       0.014516\n",
       "LSTM, time aware                               0.795249       0.033168\n",
       "LSTM                                           0.793016       0.022835\n",
       "RNN, embedded                                  0.787666       0.025880\n",
       "LSTM, embedded                                 0.785448       0.021874\n",
       "Logistic Regression                            0.781677       0.003030\n",
       "RNN, embedded, time aware                      0.777421       0.024405\n",
       "MF1-LSTM                                       0.675305       0.027665\n",
       "MF2-LSTM                                       0.668578       0.023623\n",
       "MF2-LSTM, embedded                             0.653309       0.017099\n",
       "TLSTM                                          0.649320       0.023343\n",
       "TLSTM, embedded                                0.649291       0.016514\n",
       "MF1-LSTM, embedded                             0.648051       0.008728\n",
       "SVM                                            0.440693       0.017162"
      ]
     },
     "execution_count": 8,
     "metadata": {},
     "output_type": "execute_result"
    }
   ],
   "source": [
    "metrics_df = metrics_df.sort_values('Avg. Test AUC', ascending=False)\n",
    "metrics_df"
   ]
  },
  {
   "cell_type": "code",
   "execution_count": 9,
   "metadata": {},
   "outputs": [
    {
     "data": {
      "text/plain": [
       "['Bidirectional LSTM, time aware',\n",
       " 'Bidirectional LSTM, embedded',\n",
       " 'Bidirectional LSTM',\n",
       " 'Bidirectional LSTM, embedded, time aware',\n",
       " 'Bidirectional RNN, embedded, time aware',\n",
       " 'Bidirectional RNN',\n",
       " 'Bidirectional RNN, embedded',\n",
       " 'Bidirectional RNN, time aware',\n",
       " 'XGBoost',\n",
       " 'LSTM, embedded, time aware',\n",
       " 'RNN, time aware',\n",
       " 'RNN',\n",
       " 'LSTM, time aware',\n",
       " 'LSTM',\n",
       " 'RNN, embedded',\n",
       " 'LSTM, embedded',\n",
       " 'Logistic Regression',\n",
       " 'RNN, embedded, time aware',\n",
       " 'MF1-LSTM',\n",
       " 'MF2-LSTM',\n",
       " 'MF2-LSTM, embedded',\n",
       " 'TLSTM',\n",
       " 'TLSTM, embedded',\n",
       " 'MF1-LSTM, embedded',\n",
       " 'SVM']"
      ]
     },
     "execution_count": 9,
     "metadata": {},
     "output_type": "execute_result"
    }
   ],
   "source": [
    "model_names = list(metrics_df.index)\n",
    "model_names"
   ]
  },
  {
   "cell_type": "code",
   "execution_count": 10,
   "metadata": {},
   "outputs": [
    {
     "data": {
      "text/plain": [
       "{'bidirectionality': 0.11180606855886825,\n",
       " 'embedding': -0.004854353229049409,\n",
       " 'time_awareness': 0.005653708890160994}"
      ]
     },
     "execution_count": 10,
     "metadata": {},
     "output_type": "execute_result"
    }
   ],
   "source": [
    "component_gains = dict()\n",
    "components_str = dict(bidirectionality='Bidirectional ', \n",
    "                      embedding=', embedded', \n",
    "                      time_awareness=', time aware')\n",
    "for component in components_str.keys():\n",
    "    # Find and match the names of the models with and without the component\n",
    "    models_without_comp = [model_name.replace(components_str[component], '') \n",
    "                           for model_name in model_names \n",
    "                           if components_str[component] in model_name]\n",
    "    models_with_comp = [model_name \n",
    "                        for model_name in model_names \n",
    "                        if components_str[component] in model_name]\n",
    "    model_comp_names_match = dict(zip(models_without_comp, models_with_comp))\n",
    "    curr_component_gains = list()\n",
    "    for model_name in models_without_comp:\n",
    "        # Calculate the difference in model performance with and without the component\n",
    "        component_gain = (metrics_df.loc[model_comp_names_match[model_name], 'Avg. Test AUC'] \n",
    "                          - metrics_df.loc[model_name, 'Avg. Test AUC'])\n",
    "        curr_component_gains.append(component_gain)\n",
    "    # Average the component's effect\n",
    "    component_gains[component] = sum(curr_component_gains) / len(curr_component_gains)\n",
    "component_gains"
   ]
  },
  {
   "cell_type": "code",
   "execution_count": 11,
   "metadata": {},
   "outputs": [
    {
     "data": {
      "text/plain": [
       "{'bidirectionality': 0.11180606855886825,\n",
       " 'embedding': -0.004854353229049409,\n",
       " 'time_awareness': 0.005653708890160994,\n",
       " 'LSTM': 0.021883517219191725}"
      ]
     },
     "execution_count": 11,
     "metadata": {},
     "output_type": "execute_result"
    }
   ],
   "source": [
    "# Find and match the names of the models with LSTM and with RNN\n",
    "models_with_lstm = [model_name.replace('RNN', 'LSTM')\n",
    "                    for model_name in model_names \n",
    "                    if 'RNN' in model_name]\n",
    "models_with_rnn = [model_name \n",
    "                   for model_name in model_names \n",
    "                   if 'RNN' in model_name]\n",
    "model_comp_names_match = dict(zip(models_with_rnn, models_with_lstm))\n",
    "curr_component_gains = list()\n",
    "for model_name in models_with_rnn:\n",
    "    # Calculate the difference in model performance with LSTM and with RNN\n",
    "    component_gain = (metrics_df.loc[model_comp_names_match[model_name], 'Avg. Test AUC'] \n",
    "                      - metrics_df.loc[model_name, 'Avg. Test AUC'])\n",
    "    curr_component_gains.append(component_gain)\n",
    "# Average LSTM's effect\n",
    "component_gains['LSTM'] = sum(curr_component_gains) / len(curr_component_gains)\n",
    "component_gains"
   ]
  },
  {
   "cell_type": "markdown",
   "metadata": {},
   "source": [
    "Convert to a dataframe:"
   ]
  },
  {
   "cell_type": "code",
   "execution_count": 12,
   "metadata": {},
   "outputs": [
    {
     "data": {
      "text/plain": [
       "bidirectionality    0.111806\n",
       "embedding          -0.004854\n",
       "time_awareness      0.005654\n",
       "LSTM                0.021884\n",
       "Name: Avg. Impact on Test AUC, dtype: float64"
      ]
     },
     "execution_count": 12,
     "metadata": {},
     "output_type": "execute_result"
    }
   ],
   "source": [
    "gain_df = pd.Series(component_gains, name='Avg. Impact on Test AUC')\n",
    "gain_df"
   ]
  },
  {
   "cell_type": "code",
   "execution_count": 13,
   "metadata": {},
   "outputs": [
    {
     "data": {
      "text/plain": [
       "Bidirectionality    0.111806\n",
       "Embedding          -0.004854\n",
       "Time Awareness      0.005654\n",
       "LSTM                0.021884\n",
       "Name: Avg. Impact on Test AUC, dtype: float64"
      ]
     },
     "execution_count": 13,
     "metadata": {},
     "output_type": "execute_result"
    }
   ],
   "source": [
    "gain_df.index = ['Bidirectionality', 'Embedding', 'Time Awareness', 'LSTM']\n",
    "gain_df"
   ]
  },
  {
   "cell_type": "code",
   "execution_count": 14,
   "metadata": {},
   "outputs": [
    {
     "data": {
      "text/plain": [
       "Bidirectionality    0.111806\n",
       "Embedding          -0.004854\n",
       "Time Awareness      0.005654\n",
       "LSTM                0.021884\n",
       "Name: Avg. Impact on Test AUC, dtype: float64"
      ]
     },
     "execution_count": 14,
     "metadata": {},
     "output_type": "execute_result"
    }
   ],
   "source": [
    "gain_df.index.rename('Component')\n",
    "gain_df"
   ]
  },
  {
   "cell_type": "markdown",
   "metadata": {},
   "source": [
    "Sort by a descending order of performance gain:"
   ]
  },
  {
   "cell_type": "code",
   "execution_count": 15,
   "metadata": {},
   "outputs": [
    {
     "data": {
      "text/plain": [
       "Bidirectionality    0.111806\n",
       "LSTM                0.021884\n",
       "Time Awareness      0.005654\n",
       "Embedding          -0.004854\n",
       "Name: Avg. Impact on Test AUC, dtype: float64"
      ]
     },
     "execution_count": 15,
     "metadata": {},
     "output_type": "execute_result"
    }
   ],
   "source": [
    "gain_df = gain_df.sort_values(ascending=False)\n",
    "gain_df"
   ]
  },
  {
   "cell_type": "markdown",
   "metadata": {},
   "source": [
    "#### Plot configuration"
   ]
  },
  {
   "cell_type": "code",
   "execution_count": 25,
   "metadata": {},
   "outputs": [],
   "source": [
    "font = 'Roboto'\n",
    "font_size = 20\n",
    "font_color = '#ffffff'\n",
    "background_color = '#8f2f2f'\n",
    "marker_color = ['#FF9999',\n",
    "                '#99FFFF',\n",
    "                '#FFFF99',\n",
    "                '#99FF99']\n",
    "marker_color.reverse()"
   ]
  },
  {
   "cell_type": "markdown",
   "metadata": {},
   "source": [
    "#### Plot"
   ]
  },
  {
   "cell_type": "code",
   "execution_count": 28,
   "metadata": {},
   "outputs": [
    {
     "data": {
      "application/vnd.plotly.v1+json": {
       "config": {
        "plotlyServerURL": "https://plot.ly"
       },
       "data": [
        {
         "marker": {
          "color": [
           "#99FF99",
           "#FFFF99",
           "#99FFFF",
           "#FF9999"
          ]
         },
         "orientation": "h",
         "type": "bar",
         "x": [
          -0.004854353229049409,
          0.005653708890160994,
          0.021883517219191725,
          0.11180606855886825
         ],
         "y": [
          "Embedding",
          "Time Awareness",
          "LSTM",
          "Bidirectionality"
         ]
        }
       ],
       "layout": {
        "autosize": true,
        "font": {
         "color": "#ffffff",
         "family": "Roboto",
         "size": 20
        },
        "paper_bgcolor": "#8f2f2f",
        "plot_bgcolor": "#8f2f2f",
        "template": {
         "data": {
          "bar": [
           {
            "error_x": {
             "color": "#2a3f5f"
            },
            "error_y": {
             "color": "#2a3f5f"
            },
            "marker": {
             "line": {
              "color": "#E5ECF6",
              "width": 0.5
             }
            },
            "type": "bar"
           }
          ],
          "barpolar": [
           {
            "marker": {
             "line": {
              "color": "#E5ECF6",
              "width": 0.5
             }
            },
            "type": "barpolar"
           }
          ],
          "carpet": [
           {
            "aaxis": {
             "endlinecolor": "#2a3f5f",
             "gridcolor": "white",
             "linecolor": "white",
             "minorgridcolor": "white",
             "startlinecolor": "#2a3f5f"
            },
            "baxis": {
             "endlinecolor": "#2a3f5f",
             "gridcolor": "white",
             "linecolor": "white",
             "minorgridcolor": "white",
             "startlinecolor": "#2a3f5f"
            },
            "type": "carpet"
           }
          ],
          "choropleth": [
           {
            "colorbar": {
             "outlinewidth": 0,
             "ticks": ""
            },
            "type": "choropleth"
           }
          ],
          "contour": [
           {
            "colorbar": {
             "outlinewidth": 0,
             "ticks": ""
            },
            "colorscale": [
             [
              0,
              "#0d0887"
             ],
             [
              0.1111111111111111,
              "#46039f"
             ],
             [
              0.2222222222222222,
              "#7201a8"
             ],
             [
              0.3333333333333333,
              "#9c179e"
             ],
             [
              0.4444444444444444,
              "#bd3786"
             ],
             [
              0.5555555555555556,
              "#d8576b"
             ],
             [
              0.6666666666666666,
              "#ed7953"
             ],
             [
              0.7777777777777778,
              "#fb9f3a"
             ],
             [
              0.8888888888888888,
              "#fdca26"
             ],
             [
              1,
              "#f0f921"
             ]
            ],
            "type": "contour"
           }
          ],
          "contourcarpet": [
           {
            "colorbar": {
             "outlinewidth": 0,
             "ticks": ""
            },
            "type": "contourcarpet"
           }
          ],
          "heatmap": [
           {
            "colorbar": {
             "outlinewidth": 0,
             "ticks": ""
            },
            "colorscale": [
             [
              0,
              "#0d0887"
             ],
             [
              0.1111111111111111,
              "#46039f"
             ],
             [
              0.2222222222222222,
              "#7201a8"
             ],
             [
              0.3333333333333333,
              "#9c179e"
             ],
             [
              0.4444444444444444,
              "#bd3786"
             ],
             [
              0.5555555555555556,
              "#d8576b"
             ],
             [
              0.6666666666666666,
              "#ed7953"
             ],
             [
              0.7777777777777778,
              "#fb9f3a"
             ],
             [
              0.8888888888888888,
              "#fdca26"
             ],
             [
              1,
              "#f0f921"
             ]
            ],
            "type": "heatmap"
           }
          ],
          "heatmapgl": [
           {
            "colorbar": {
             "outlinewidth": 0,
             "ticks": ""
            },
            "colorscale": [
             [
              0,
              "#0d0887"
             ],
             [
              0.1111111111111111,
              "#46039f"
             ],
             [
              0.2222222222222222,
              "#7201a8"
             ],
             [
              0.3333333333333333,
              "#9c179e"
             ],
             [
              0.4444444444444444,
              "#bd3786"
             ],
             [
              0.5555555555555556,
              "#d8576b"
             ],
             [
              0.6666666666666666,
              "#ed7953"
             ],
             [
              0.7777777777777778,
              "#fb9f3a"
             ],
             [
              0.8888888888888888,
              "#fdca26"
             ],
             [
              1,
              "#f0f921"
             ]
            ],
            "type": "heatmapgl"
           }
          ],
          "histogram": [
           {
            "marker": {
             "colorbar": {
              "outlinewidth": 0,
              "ticks": ""
             }
            },
            "type": "histogram"
           }
          ],
          "histogram2d": [
           {
            "colorbar": {
             "outlinewidth": 0,
             "ticks": ""
            },
            "colorscale": [
             [
              0,
              "#0d0887"
             ],
             [
              0.1111111111111111,
              "#46039f"
             ],
             [
              0.2222222222222222,
              "#7201a8"
             ],
             [
              0.3333333333333333,
              "#9c179e"
             ],
             [
              0.4444444444444444,
              "#bd3786"
             ],
             [
              0.5555555555555556,
              "#d8576b"
             ],
             [
              0.6666666666666666,
              "#ed7953"
             ],
             [
              0.7777777777777778,
              "#fb9f3a"
             ],
             [
              0.8888888888888888,
              "#fdca26"
             ],
             [
              1,
              "#f0f921"
             ]
            ],
            "type": "histogram2d"
           }
          ],
          "histogram2dcontour": [
           {
            "colorbar": {
             "outlinewidth": 0,
             "ticks": ""
            },
            "colorscale": [
             [
              0,
              "#0d0887"
             ],
             [
              0.1111111111111111,
              "#46039f"
             ],
             [
              0.2222222222222222,
              "#7201a8"
             ],
             [
              0.3333333333333333,
              "#9c179e"
             ],
             [
              0.4444444444444444,
              "#bd3786"
             ],
             [
              0.5555555555555556,
              "#d8576b"
             ],
             [
              0.6666666666666666,
              "#ed7953"
             ],
             [
              0.7777777777777778,
              "#fb9f3a"
             ],
             [
              0.8888888888888888,
              "#fdca26"
             ],
             [
              1,
              "#f0f921"
             ]
            ],
            "type": "histogram2dcontour"
           }
          ],
          "mesh3d": [
           {
            "colorbar": {
             "outlinewidth": 0,
             "ticks": ""
            },
            "type": "mesh3d"
           }
          ],
          "parcoords": [
           {
            "line": {
             "colorbar": {
              "outlinewidth": 0,
              "ticks": ""
             }
            },
            "type": "parcoords"
           }
          ],
          "pie": [
           {
            "automargin": true,
            "type": "pie"
           }
          ],
          "scatter": [
           {
            "marker": {
             "colorbar": {
              "outlinewidth": 0,
              "ticks": ""
             }
            },
            "type": "scatter"
           }
          ],
          "scatter3d": [
           {
            "line": {
             "colorbar": {
              "outlinewidth": 0,
              "ticks": ""
             }
            },
            "marker": {
             "colorbar": {
              "outlinewidth": 0,
              "ticks": ""
             }
            },
            "type": "scatter3d"
           }
          ],
          "scattercarpet": [
           {
            "marker": {
             "colorbar": {
              "outlinewidth": 0,
              "ticks": ""
             }
            },
            "type": "scattercarpet"
           }
          ],
          "scattergeo": [
           {
            "marker": {
             "colorbar": {
              "outlinewidth": 0,
              "ticks": ""
             }
            },
            "type": "scattergeo"
           }
          ],
          "scattergl": [
           {
            "marker": {
             "colorbar": {
              "outlinewidth": 0,
              "ticks": ""
             }
            },
            "type": "scattergl"
           }
          ],
          "scattermapbox": [
           {
            "marker": {
             "colorbar": {
              "outlinewidth": 0,
              "ticks": ""
             }
            },
            "type": "scattermapbox"
           }
          ],
          "scatterpolar": [
           {
            "marker": {
             "colorbar": {
              "outlinewidth": 0,
              "ticks": ""
             }
            },
            "type": "scatterpolar"
           }
          ],
          "scatterpolargl": [
           {
            "marker": {
             "colorbar": {
              "outlinewidth": 0,
              "ticks": ""
             }
            },
            "type": "scatterpolargl"
           }
          ],
          "scatterternary": [
           {
            "marker": {
             "colorbar": {
              "outlinewidth": 0,
              "ticks": ""
             }
            },
            "type": "scatterternary"
           }
          ],
          "surface": [
           {
            "colorbar": {
             "outlinewidth": 0,
             "ticks": ""
            },
            "colorscale": [
             [
              0,
              "#0d0887"
             ],
             [
              0.1111111111111111,
              "#46039f"
             ],
             [
              0.2222222222222222,
              "#7201a8"
             ],
             [
              0.3333333333333333,
              "#9c179e"
             ],
             [
              0.4444444444444444,
              "#bd3786"
             ],
             [
              0.5555555555555556,
              "#d8576b"
             ],
             [
              0.6666666666666666,
              "#ed7953"
             ],
             [
              0.7777777777777778,
              "#fb9f3a"
             ],
             [
              0.8888888888888888,
              "#fdca26"
             ],
             [
              1,
              "#f0f921"
             ]
            ],
            "type": "surface"
           }
          ],
          "table": [
           {
            "cells": {
             "fill": {
              "color": "#EBF0F8"
             },
             "line": {
              "color": "white"
             }
            },
            "header": {
             "fill": {
              "color": "#C8D4E3"
             },
             "line": {
              "color": "white"
             }
            },
            "type": "table"
           }
          ]
         },
         "layout": {
          "annotationdefaults": {
           "arrowcolor": "#2a3f5f",
           "arrowhead": 0,
           "arrowwidth": 1
          },
          "coloraxis": {
           "colorbar": {
            "outlinewidth": 0,
            "ticks": ""
           }
          },
          "colorscale": {
           "diverging": [
            [
             0,
             "#8e0152"
            ],
            [
             0.1,
             "#c51b7d"
            ],
            [
             0.2,
             "#de77ae"
            ],
            [
             0.3,
             "#f1b6da"
            ],
            [
             0.4,
             "#fde0ef"
            ],
            [
             0.5,
             "#f7f7f7"
            ],
            [
             0.6,
             "#e6f5d0"
            ],
            [
             0.7,
             "#b8e186"
            ],
            [
             0.8,
             "#7fbc41"
            ],
            [
             0.9,
             "#4d9221"
            ],
            [
             1,
             "#276419"
            ]
           ],
           "sequential": [
            [
             0,
             "#0d0887"
            ],
            [
             0.1111111111111111,
             "#46039f"
            ],
            [
             0.2222222222222222,
             "#7201a8"
            ],
            [
             0.3333333333333333,
             "#9c179e"
            ],
            [
             0.4444444444444444,
             "#bd3786"
            ],
            [
             0.5555555555555556,
             "#d8576b"
            ],
            [
             0.6666666666666666,
             "#ed7953"
            ],
            [
             0.7777777777777778,
             "#fb9f3a"
            ],
            [
             0.8888888888888888,
             "#fdca26"
            ],
            [
             1,
             "#f0f921"
            ]
           ],
           "sequentialminus": [
            [
             0,
             "#0d0887"
            ],
            [
             0.1111111111111111,
             "#46039f"
            ],
            [
             0.2222222222222222,
             "#7201a8"
            ],
            [
             0.3333333333333333,
             "#9c179e"
            ],
            [
             0.4444444444444444,
             "#bd3786"
            ],
            [
             0.5555555555555556,
             "#d8576b"
            ],
            [
             0.6666666666666666,
             "#ed7953"
            ],
            [
             0.7777777777777778,
             "#fb9f3a"
            ],
            [
             0.8888888888888888,
             "#fdca26"
            ],
            [
             1,
             "#f0f921"
            ]
           ]
          },
          "colorway": [
           "#636efa",
           "#EF553B",
           "#00cc96",
           "#ab63fa",
           "#FFA15A",
           "#19d3f3",
           "#FF6692",
           "#B6E880",
           "#FF97FF",
           "#FECB52"
          ],
          "font": {
           "color": "#2a3f5f"
          },
          "geo": {
           "bgcolor": "white",
           "lakecolor": "white",
           "landcolor": "#E5ECF6",
           "showlakes": true,
           "showland": true,
           "subunitcolor": "white"
          },
          "hoverlabel": {
           "align": "left"
          },
          "hovermode": "closest",
          "mapbox": {
           "style": "light"
          },
          "paper_bgcolor": "white",
          "plot_bgcolor": "#E5ECF6",
          "polar": {
           "angularaxis": {
            "gridcolor": "white",
            "linecolor": "white",
            "ticks": ""
           },
           "bgcolor": "#E5ECF6",
           "radialaxis": {
            "gridcolor": "white",
            "linecolor": "white",
            "ticks": ""
           }
          },
          "scene": {
           "xaxis": {
            "backgroundcolor": "#E5ECF6",
            "gridcolor": "white",
            "gridwidth": 2,
            "linecolor": "white",
            "showbackground": true,
            "ticks": "",
            "zerolinecolor": "white"
           },
           "yaxis": {
            "backgroundcolor": "#E5ECF6",
            "gridcolor": "white",
            "gridwidth": 2,
            "linecolor": "white",
            "showbackground": true,
            "ticks": "",
            "zerolinecolor": "white"
           },
           "zaxis": {
            "backgroundcolor": "#E5ECF6",
            "gridcolor": "white",
            "gridwidth": 2,
            "linecolor": "white",
            "showbackground": true,
            "ticks": "",
            "zerolinecolor": "white"
           }
          },
          "shapedefaults": {
           "line": {
            "color": "#2a3f5f"
           }
          },
          "ternary": {
           "aaxis": {
            "gridcolor": "white",
            "linecolor": "white",
            "ticks": ""
           },
           "baxis": {
            "gridcolor": "white",
            "linecolor": "white",
            "ticks": ""
           },
           "bgcolor": "#E5ECF6",
           "caxis": {
            "gridcolor": "white",
            "linecolor": "white",
            "ticks": ""
           }
          },
          "title": {
           "x": 0.05
          },
          "xaxis": {
           "automargin": true,
           "gridcolor": "white",
           "linecolor": "white",
           "ticks": "",
           "title": {
            "standoff": 15
           },
           "zerolinecolor": "white",
           "zerolinewidth": 2
          },
          "yaxis": {
           "automargin": true,
           "gridcolor": "white",
           "linecolor": "white",
           "ticks": "",
           "title": {
            "standoff": 15
           },
           "zerolinecolor": "white",
           "zerolinewidth": 2
          }
         }
        },
        "title": {
         "text": "Average impact on model's test AUC"
        },
        "xaxis": {
         "autorange": true,
         "range": [
          -0.011335487772822613,
          0.11828720310264146
         ],
         "type": "linear"
        },
        "yaxis": {
         "autorange": true,
         "range": [
          -0.5,
          3.5
         ],
         "type": "category"
        }
       }
      },
      "image/png": "[encoded data removed]",
      "text/html": [
       "<div>\n",
       "        \n",
       "        \n",
       "            <div id=\"7217a789-5eb6-4238-84b4-9462eccafbca\" class=\"plotly-graph-div\" style=\"height:525px; width:100%;\"></div>\n",
       "            <script type=\"text/javascript\">\n",
       "                require([\"plotly\"], function(Plotly) {\n",
       "                    window.PLOTLYENV=window.PLOTLYENV || {};\n",
       "                    \n",
       "                if (document.getElementById(\"7217a789-5eb6-4238-84b4-9462eccafbca\")) {\n",
       "                    Plotly.newPlot(\n",
       "                        '7217a789-5eb6-4238-84b4-9462eccafbca',\n",
       "                        [{\"marker\": {\"color\": [\"#99FF99\", \"#FFFF99\", \"#99FFFF\", \"#FF9999\"]}, \"orientation\": \"h\", \"type\": \"bar\", \"x\": [-0.004854353229049409, 0.005653708890160994, 0.021883517219191725, 0.11180606855886825], \"y\": [\"Embedding\", \"Time Awareness\", \"LSTM\", \"Bidirectionality\"]}],\n",
       "                        {\"font\": {\"color\": \"#ffffff\", \"family\": \"Roboto\", \"size\": 20}, \"paper_bgcolor\": \"#8f2f2f\", \"plot_bgcolor\": \"#8f2f2f\", \"template\": {\"data\": {\"bar\": [{\"error_x\": {\"color\": \"#2a3f5f\"}, \"error_y\": {\"color\": \"#2a3f5f\"}, \"marker\": {\"line\": {\"color\": \"#E5ECF6\", \"width\": 0.5}}, \"type\": \"bar\"}], \"barpolar\": [{\"marker\": {\"line\": {\"color\": \"#E5ECF6\", \"width\": 0.5}}, \"type\": \"barpolar\"}], \"carpet\": [{\"aaxis\": {\"endlinecolor\": \"#2a3f5f\", \"gridcolor\": \"white\", \"linecolor\": \"white\", \"minorgridcolor\": \"white\", \"startlinecolor\": \"#2a3f5f\"}, \"baxis\": {\"endlinecolor\": \"#2a3f5f\", \"gridcolor\": \"white\", \"linecolor\": \"white\", \"minorgridcolor\": \"white\", \"startlinecolor\": \"#2a3f5f\"}, \"type\": \"carpet\"}], \"choropleth\": [{\"colorbar\": {\"outlinewidth\": 0, \"ticks\": \"\"}, \"type\": \"choropleth\"}], \"contour\": [{\"colorbar\": {\"outlinewidth\": 0, \"ticks\": \"\"}, \"colorscale\": [[0.0, \"#0d0887\"], [0.1111111111111111, \"#46039f\"], [0.2222222222222222, \"#7201a8\"], [0.3333333333333333, \"#9c179e\"], [0.4444444444444444, \"#bd3786\"], [0.5555555555555556, \"#d8576b\"], [0.6666666666666666, \"#ed7953\"], [0.7777777777777778, \"#fb9f3a\"], [0.8888888888888888, \"#fdca26\"], [1.0, \"#f0f921\"]], \"type\": \"contour\"}], \"contourcarpet\": [{\"colorbar\": {\"outlinewidth\": 0, \"ticks\": \"\"}, \"type\": \"contourcarpet\"}], \"heatmap\": [{\"colorbar\": {\"outlinewidth\": 0, \"ticks\": \"\"}, \"colorscale\": [[0.0, \"#0d0887\"], [0.1111111111111111, \"#46039f\"], [0.2222222222222222, \"#7201a8\"], [0.3333333333333333, \"#9c179e\"], [0.4444444444444444, \"#bd3786\"], [0.5555555555555556, \"#d8576b\"], [0.6666666666666666, \"#ed7953\"], [0.7777777777777778, \"#fb9f3a\"], [0.8888888888888888, \"#fdca26\"], [1.0, \"#f0f921\"]], \"type\": \"heatmap\"}], \"heatmapgl\": [{\"colorbar\": {\"outlinewidth\": 0, \"ticks\": \"\"}, \"colorscale\": [[0.0, \"#0d0887\"], [0.1111111111111111, \"#46039f\"], [0.2222222222222222, \"#7201a8\"], [0.3333333333333333, \"#9c179e\"], [0.4444444444444444, \"#bd3786\"], [0.5555555555555556, \"#d8576b\"], [0.6666666666666666, \"#ed7953\"], [0.7777777777777778, \"#fb9f3a\"], [0.8888888888888888, \"#fdca26\"], [1.0, \"#f0f921\"]], \"type\": \"heatmapgl\"}], \"histogram\": [{\"marker\": {\"colorbar\": {\"outlinewidth\": 0, \"ticks\": \"\"}}, \"type\": \"histogram\"}], \"histogram2d\": [{\"colorbar\": {\"outlinewidth\": 0, \"ticks\": \"\"}, \"colorscale\": [[0.0, \"#0d0887\"], [0.1111111111111111, \"#46039f\"], [0.2222222222222222, \"#7201a8\"], [0.3333333333333333, \"#9c179e\"], [0.4444444444444444, \"#bd3786\"], [0.5555555555555556, \"#d8576b\"], [0.6666666666666666, \"#ed7953\"], [0.7777777777777778, \"#fb9f3a\"], [0.8888888888888888, \"#fdca26\"], [1.0, \"#f0f921\"]], \"type\": \"histogram2d\"}], \"histogram2dcontour\": [{\"colorbar\": {\"outlinewidth\": 0, \"ticks\": \"\"}, \"colorscale\": [[0.0, \"#0d0887\"], [0.1111111111111111, \"#46039f\"], [0.2222222222222222, \"#7201a8\"], [0.3333333333333333, \"#9c179e\"], [0.4444444444444444, \"#bd3786\"], [0.5555555555555556, \"#d8576b\"], [0.6666666666666666, \"#ed7953\"], [0.7777777777777778, \"#fb9f3a\"], [0.8888888888888888, \"#fdca26\"], [1.0, \"#f0f921\"]], \"type\": \"histogram2dcontour\"}], \"mesh3d\": [{\"colorbar\": {\"outlinewidth\": 0, \"ticks\": \"\"}, \"type\": \"mesh3d\"}], \"parcoords\": [{\"line\": {\"colorbar\": {\"outlinewidth\": 0, \"ticks\": \"\"}}, \"type\": \"parcoords\"}], \"pie\": [{\"automargin\": true, \"type\": \"pie\"}], \"scatter\": [{\"marker\": {\"colorbar\": {\"outlinewidth\": 0, \"ticks\": \"\"}}, \"type\": \"scatter\"}], \"scatter3d\": [{\"line\": {\"colorbar\": {\"outlinewidth\": 0, \"ticks\": \"\"}}, \"marker\": {\"colorbar\": {\"outlinewidth\": 0, \"ticks\": \"\"}}, \"type\": \"scatter3d\"}], \"scattercarpet\": [{\"marker\": {\"colorbar\": {\"outlinewidth\": 0, \"ticks\": \"\"}}, \"type\": \"scattercarpet\"}], \"scattergeo\": [{\"marker\": {\"colorbar\": {\"outlinewidth\": 0, \"ticks\": \"\"}}, \"type\": \"scattergeo\"}], \"scattergl\": [{\"marker\": {\"colorbar\": {\"outlinewidth\": 0, \"ticks\": \"\"}}, \"type\": \"scattergl\"}], \"scattermapbox\": [{\"marker\": {\"colorbar\": {\"outlinewidth\": 0, \"ticks\": \"\"}}, \"type\": \"scattermapbox\"}], \"scatterpolar\": [{\"marker\": {\"colorbar\": {\"outlinewidth\": 0, \"ticks\": \"\"}}, \"type\": \"scatterpolar\"}], \"scatterpolargl\": [{\"marker\": {\"colorbar\": {\"outlinewidth\": 0, \"ticks\": \"\"}}, \"type\": \"scatterpolargl\"}], \"scatterternary\": [{\"marker\": {\"colorbar\": {\"outlinewidth\": 0, \"ticks\": \"\"}}, \"type\": \"scatterternary\"}], \"surface\": [{\"colorbar\": {\"outlinewidth\": 0, \"ticks\": \"\"}, \"colorscale\": [[0.0, \"#0d0887\"], [0.1111111111111111, \"#46039f\"], [0.2222222222222222, \"#7201a8\"], [0.3333333333333333, \"#9c179e\"], [0.4444444444444444, \"#bd3786\"], [0.5555555555555556, \"#d8576b\"], [0.6666666666666666, \"#ed7953\"], [0.7777777777777778, \"#fb9f3a\"], [0.8888888888888888, \"#fdca26\"], [1.0, \"#f0f921\"]], \"type\": \"surface\"}], \"table\": [{\"cells\": {\"fill\": {\"color\": \"#EBF0F8\"}, \"line\": {\"color\": \"white\"}}, \"header\": {\"fill\": {\"color\": \"#C8D4E3\"}, \"line\": {\"color\": \"white\"}}, \"type\": \"table\"}]}, \"layout\": {\"annotationdefaults\": {\"arrowcolor\": \"#2a3f5f\", \"arrowhead\": 0, \"arrowwidth\": 1}, \"coloraxis\": {\"colorbar\": {\"outlinewidth\": 0, \"ticks\": \"\"}}, \"colorscale\": {\"diverging\": [[0, \"#8e0152\"], [0.1, \"#c51b7d\"], [0.2, \"#de77ae\"], [0.3, \"#f1b6da\"], [0.4, \"#fde0ef\"], [0.5, \"#f7f7f7\"], [0.6, \"#e6f5d0\"], [0.7, \"#b8e186\"], [0.8, \"#7fbc41\"], [0.9, \"#4d9221\"], [1, \"#276419\"]], \"sequential\": [[0.0, \"#0d0887\"], [0.1111111111111111, \"#46039f\"], [0.2222222222222222, \"#7201a8\"], [0.3333333333333333, \"#9c179e\"], [0.4444444444444444, \"#bd3786\"], [0.5555555555555556, \"#d8576b\"], [0.6666666666666666, \"#ed7953\"], [0.7777777777777778, \"#fb9f3a\"], [0.8888888888888888, \"#fdca26\"], [1.0, \"#f0f921\"]], \"sequentialminus\": [[0.0, \"#0d0887\"], [0.1111111111111111, \"#46039f\"], [0.2222222222222222, \"#7201a8\"], [0.3333333333333333, \"#9c179e\"], [0.4444444444444444, \"#bd3786\"], [0.5555555555555556, \"#d8576b\"], [0.6666666666666666, \"#ed7953\"], [0.7777777777777778, \"#fb9f3a\"], [0.8888888888888888, \"#fdca26\"], [1.0, \"#f0f921\"]]}, \"colorway\": [\"#636efa\", \"#EF553B\", \"#00cc96\", \"#ab63fa\", \"#FFA15A\", \"#19d3f3\", \"#FF6692\", \"#B6E880\", \"#FF97FF\", \"#FECB52\"], \"font\": {\"color\": \"#2a3f5f\"}, \"geo\": {\"bgcolor\": \"white\", \"lakecolor\": \"white\", \"landcolor\": \"#E5ECF6\", \"showlakes\": true, \"showland\": true, \"subunitcolor\": \"white\"}, \"hoverlabel\": {\"align\": \"left\"}, \"hovermode\": \"closest\", \"mapbox\": {\"style\": \"light\"}, \"paper_bgcolor\": \"white\", \"plot_bgcolor\": \"#E5ECF6\", \"polar\": {\"angularaxis\": {\"gridcolor\": \"white\", \"linecolor\": \"white\", \"ticks\": \"\"}, \"bgcolor\": \"#E5ECF6\", \"radialaxis\": {\"gridcolor\": \"white\", \"linecolor\": \"white\", \"ticks\": \"\"}}, \"scene\": {\"xaxis\": {\"backgroundcolor\": \"#E5ECF6\", \"gridcolor\": \"white\", \"gridwidth\": 2, \"linecolor\": \"white\", \"showbackground\": true, \"ticks\": \"\", \"zerolinecolor\": \"white\"}, \"yaxis\": {\"backgroundcolor\": \"#E5ECF6\", \"gridcolor\": \"white\", \"gridwidth\": 2, \"linecolor\": \"white\", \"showbackground\": true, \"ticks\": \"\", \"zerolinecolor\": \"white\"}, \"zaxis\": {\"backgroundcolor\": \"#E5ECF6\", \"gridcolor\": \"white\", \"gridwidth\": 2, \"linecolor\": \"white\", \"showbackground\": true, \"ticks\": \"\", \"zerolinecolor\": \"white\"}}, \"shapedefaults\": {\"line\": {\"color\": \"#2a3f5f\"}}, \"ternary\": {\"aaxis\": {\"gridcolor\": \"white\", \"linecolor\": \"white\", \"ticks\": \"\"}, \"baxis\": {\"gridcolor\": \"white\", \"linecolor\": \"white\", \"ticks\": \"\"}, \"bgcolor\": \"#E5ECF6\", \"caxis\": {\"gridcolor\": \"white\", \"linecolor\": \"white\", \"ticks\": \"\"}}, \"title\": {\"x\": 0.05}, \"xaxis\": {\"automargin\": true, \"gridcolor\": \"white\", \"linecolor\": \"white\", \"ticks\": \"\", \"title\": {\"standoff\": 15}, \"zerolinecolor\": \"white\", \"zerolinewidth\": 2}, \"yaxis\": {\"automargin\": true, \"gridcolor\": \"white\", \"linecolor\": \"white\", \"ticks\": \"\", \"title\": {\"standoff\": 15}, \"zerolinecolor\": \"white\", \"zerolinewidth\": 2}}}, \"title\": {\"text\": \"Average impact on model's test AUC\"}},\n",
       "                        {\"responsive\": true}\n",
       "                    ).then(function(){\n",
       "                            \n",
       "var gd = document.getElementById('7217a789-5eb6-4238-84b4-9462eccafbca');\n",
       "var x = new MutationObserver(function (mutations, observer) {{\n",
       "        var display = window.getComputedStyle(gd).display;\n",
       "        if (!display || display === 'none') {{\n",
       "            console.log([gd, 'removed!']);\n",
       "            Plotly.purge(gd);\n",
       "            observer.disconnect();\n",
       "        }}\n",
       "}});\n",
       "\n",
       "// Listen for the removal of the full notebook cells\n",
       "var notebookContainer = gd.closest('#notebook-container');\n",
       "if (notebookContainer) {{\n",
       "    x.observe(notebookContainer, {childList: true});\n",
       "}}\n",
       "\n",
       "// Listen for the clearing of the current output cell\n",
       "var outputEl = gd.closest('.output');\n",
       "if (outputEl) {{\n",
       "    x.observe(outputEl, {childList: true});\n",
       "}}\n",
       "\n",
       "                        })\n",
       "                };\n",
       "                });\n",
       "            </script>\n",
       "        </div>"
      ]
     },
     "metadata": {},
     "output_type": "display_data"
    }
   ],
   "source": [
    "gain_plot_df = gain_df.copy()\n",
    "gain_plot_df = gain_plot_df.sort_values(ascending=True)\n",
    "# Create the figure\n",
    "figure=dict(\n",
    "    data=[dict(\n",
    "        type='bar',\n",
    "        x=gain_plot_df,\n",
    "        y=gain_plot_df.index,\n",
    "        orientation='h',\n",
    "        marker=dict(color=marker_color)\n",
    "    )],\n",
    "    layout=dict(\n",
    "        paper_bgcolor=background_color,\n",
    "        plot_bgcolor=background_color,\n",
    "        title='Average impact on model\\'s test AUC',\n",
    "        yaxis_title=gain_plot_df.index.name,\n",
    "        font=dict(\n",
    "            family=font,\n",
    "            size=font_size,\n",
    "            color=font_color\n",
    "        )\n",
    "    )\n",
    ")\n",
    "fig = go.Figure(figure)\n",
    "fig"
   ]
  },
  {
   "cell_type": "code",
   "execution_count": 29,
   "metadata": {},
   "outputs": [],
   "source": [
    "pio.write_html(fig, file='thesis_component_impact.html', auto_open=True)"
   ]
  },
  {
   "cell_type": "code",
   "execution_count": null,
   "metadata": {},
   "outputs": [],
   "source": []
  }
 ],
 "metadata": {
  "jupytext": {
   "cell_metadata_filter": "-all",
   "formats": "ipynb,py:light",
   "notebook_metadata_filter": "-all"
  },
  "kernelspec": {
   "display_name": "fcul_als_disease_progression",
   "language": "python",
   "name": "fcul_als_disease_progression"
  },
  "language_info": {
   "codemirror_mode": {
    "name": "ipython",
    "version": 3
   },
   "file_extension": ".py",
   "mimetype": "text/x-python",
   "name": "python",
   "nbconvert_exporter": "python",
   "pygments_lexer": "ipython3",
   "version": "3.7.4"
  }
 },
 "nbformat": 4,
 "nbformat_minor": 4
}
